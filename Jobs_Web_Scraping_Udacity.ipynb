{
 "cells": [
  {
   "cell_type": "code",
   "execution_count": 1,
   "metadata": {
    "ExecuteTime": {
     "end_time": "2018-06-08T14:19:15.899213Z",
     "start_time": "2018-06-08T14:19:11.311758Z"
    },
    "collapsed": true
   },
   "outputs": [],
   "source": [
    "from robobrowser import RoboBrowser\n",
    "import pandas as pd\n",
    "import numpy as np\n",
    "import requests\n",
    "from bs4 import BeautifulSoup\n",
    "from lxml import html\n",
    "\n",
    "import datetime\n",
    "today = datetime.date.today().strftime('%Y-%m-%d')"
   ]
  },
  {
   "cell_type": "markdown",
   "metadata": {},
   "source": [
    "# Udacity"
   ]
  },
  {
   "cell_type": "code",
   "execution_count": 164,
   "metadata": {
    "ExecuteTime": {
     "end_time": "2018-06-08T19:11:42.630314Z",
     "start_time": "2018-06-08T19:11:40.309044Z"
    },
    "collapsed": true
   },
   "outputs": [],
   "source": [
    "page = requests.get('https://www.udacity.com/courses/all')\n",
    "soup = BeautifulSoup((page).content, 'html.parser')\n",
    "#list(soup.children)"
   ]
  },
  {
   "cell_type": "code",
   "execution_count": 165,
   "metadata": {
    "ExecuteTime": {
     "end_time": "2018-06-08T19:11:43.143369Z",
     "start_time": "2018-06-08T19:11:42.635746Z"
    }
   },
   "outputs": [
    {
     "name": "stdout",
     "output_type": "stream",
     "text": [
      "27 Nanodegrees,  235 Courses\n"
     ]
    }
   ],
   "source": [
    "nanos = [x for x in soup.findAll('div', {'class': \"course-summary-card row row-gap-medium catalog-card nanodegree-card ng-star-inserted\"})]\n",
    "courses = [x for x in soup.findAll('div', {'class': \"course-summary-card row row-gap-medium catalog-card ng-star-inserted\"})]\n",
    "print(len(nanos), 'Nanodegrees, ', len(courses), 'Courses')"
   ]
  },
  {
   "cell_type": "code",
   "execution_count": 4,
   "metadata": {
    "ExecuteTime": {
     "end_time": "2018-06-08T14:19:18.757468Z",
     "start_time": "2018-06-08T14:19:18.704693Z"
    },
    "collapsed": true
   },
   "outputs": [],
   "source": [
    "nano_links = [x.find('a').get('href') for x in nanos]\n",
    "course_links = [x.find('a').get('href') for x in courses]"
   ]
  },
  {
   "cell_type": "code",
   "execution_count": null,
   "metadata": {
    "collapsed": true
   },
   "outputs": [],
   "source": []
  },
  {
   "cell_type": "markdown",
   "metadata": {},
   "source": [
    "### Courses"
   ]
  },
  {
   "cell_type": "code",
   "execution_count": 207,
   "metadata": {
    "ExecuteTime": {
     "end_time": "2018-06-08T19:56:53.229188Z",
     "start_time": "2018-06-08T19:54:05.188274Z"
    }
   },
   "outputs": [],
   "source": [
    "things = []\n",
    "for x in courses:\n",
    "    \n",
    "    title = x.find('div', {'class': 'card-content'}).find('h3').text\n",
    "    \n",
    "    if x.find('h4', {'class': 'category ng-star-inserted'}):\n",
    "        category = x.find('h4', {'class': 'category ng-star-inserted'}).text\n",
    "    else:\n",
    "        category = ''\n",
    "        \n",
    "    if x.find('div', {'class': 'skills ng-star-inserted'}):\n",
    "        skills = [x.text for x in x.find('div', {'class': 'skills ng-star-inserted'})\\\n",
    "                                                        .findAll('span', {'class', 'ng-star-inserted'})]\n",
    "    else:\n",
    "        skills = ''\n",
    "        \n",
    "    if x.findAll('div', {'class': 'hidden-sm-down ng-star-inserted'}):\n",
    "        affiliation = x.find('div', {'class': 'hidden-sm-down ng-star-inserted'}).text\n",
    "    else:\n",
    "        affiliation = ''\n",
    "        \n",
    "    if x.find('span', {'class': 'capitalize'}):\n",
    "        skill_level = x.find('span', {'class': 'capitalize'}).text\n",
    "    else:\n",
    "        skill_level = ''\n",
    "        \n",
    "        \n",
    "    url = 'https://www.udacity.com' + x.find('a').get('href')\n",
    "    page = requests.get(url)\n",
    "    soup = BeautifulSoup((page).content, 'html.parser')\n",
    "    \n",
    "    if soup.find('h4', {'class': 'card__ndop--title'}):\n",
    "        nanodegree = soup.find('h4', {'class': 'card__ndop--title'}).text\n",
    "    else:\n",
    "        nanodegree = ''\n",
    "        \n",
    "    if soup.find('div', {'class': 'information__summary'}):\n",
    "        summary = ', '.join([x.text for x in soup.find('div', {'class': 'information__summary'}).findAll('p')])\n",
    "    elif soup.find('div', {'class': 'summary-text ng-star-inserted'}):\n",
    "        summary = soup.find('div', {'class': 'summary-text ng-star-inserted'}).text\n",
    "    else:\n",
    "        summary = ''\n",
    "        \n",
    "    if soup.findAll('li', {'class': 'instructor'}):\n",
    "        instructors = [x.find('h5').text for x in soup.findAll('li', {'class': 'instructor'})]\n",
    "    else:\n",
    "        instructors = ''\n",
    "        \n",
    "    \n",
    "    stuff = {'title': title,\n",
    "             'category': category,\n",
    "             'skills': [skills],\n",
    "             'affiliation': [affiliation],\n",
    "             'url': url, \n",
    "             'skill_level': skill_level,\n",
    "             'nanodegree': nanodegree,\n",
    "             'summary': summary,\n",
    "             'instructors': [instructors]}  \n",
    "    \n",
    "    df = pd.DataFrame(stuff)\n",
    "    things.append(df)"
   ]
  },
  {
   "cell_type": "code",
   "execution_count": 208,
   "metadata": {
    "ExecuteTime": {
     "end_time": "2018-06-08T19:56:53.426435Z",
     "start_time": "2018-06-08T19:56:53.231295Z"
    }
   },
   "outputs": [
    {
     "data": {
      "text/html": [
       "<div>\n",
       "<style>\n",
       "    .dataframe thead tr:only-child th {\n",
       "        text-align: right;\n",
       "    }\n",
       "\n",
       "    .dataframe thead th {\n",
       "        text-align: left;\n",
       "    }\n",
       "\n",
       "    .dataframe tbody tr th {\n",
       "        vertical-align: top;\n",
       "    }\n",
       "</style>\n",
       "<table border=\"1\" class=\"dataframe\">\n",
       "  <thead>\n",
       "    <tr style=\"text-align: right;\">\n",
       "      <th></th>\n",
       "      <th>affiliation</th>\n",
       "      <th>category</th>\n",
       "      <th>instructors</th>\n",
       "      <th>nanodegree</th>\n",
       "      <th>skill_level</th>\n",
       "      <th>skills</th>\n",
       "      <th>summary</th>\n",
       "      <th>title</th>\n",
       "      <th>url</th>\n",
       "    </tr>\n",
       "  </thead>\n",
       "  <tbody>\n",
       "    <tr>\n",
       "      <th>0</th>\n",
       "      <td>Collaboration WithGrow With Google</td>\n",
       "      <td>Career Advancement</td>\n",
       "      <td></td>\n",
       "      <td>Become a Professional React Developer</td>\n",
       "      <td>beginner</td>\n",
       "      <td>[Resume writing, , Company targeting, , Storyt...</td>\n",
       "      <td>Your resume is the first step in the job searc...</td>\n",
       "      <td>Refresh Your Resume</td>\n",
       "      <td>https://www.udacity.com/course/refresh-your-re...</td>\n",
       "    </tr>\n",
       "    <tr>\n",
       "      <th>0</th>\n",
       "      <td></td>\n",
       "      <td>Career Advancement</td>\n",
       "      <td></td>\n",
       "      <td>Predictive Analytics for Business</td>\n",
       "      <td>beginner</td>\n",
       "      <td>[Creating a narrative, , Targeting your pitch,...</td>\n",
       "      <td>Introduce yourself with a memorable cover lett...</td>\n",
       "      <td>Craft Your Cover Letter</td>\n",
       "      <td>https://www.udacity.com/course/craft-your-cove...</td>\n",
       "    </tr>\n",
       "    <tr>\n",
       "      <th>0</th>\n",
       "      <td>Collaboration WithGrow With Google</td>\n",
       "      <td>Career Advancement</td>\n",
       "      <td></td>\n",
       "      <td>Self-Driving Car Engineer Nanodegree</td>\n",
       "      <td>beginner</td>\n",
       "      <td>[GitHub, , Version Control, , Repositories]</td>\n",
       "      <td>GitHub is the preferred platform for showcasin...</td>\n",
       "      <td>Optimize Your GitHub</td>\n",
       "      <td>https://www.udacity.com/course/optimize-your-g...</td>\n",
       "    </tr>\n",
       "    <tr>\n",
       "      <th>0</th>\n",
       "      <td>Collaboration WithGrow With Google</td>\n",
       "      <td>Career Advancement</td>\n",
       "      <td></td>\n",
       "      <td>Become a Digital Marketer</td>\n",
       "      <td>beginner</td>\n",
       "      <td>[Personal branding, , LinkedIn, , Networking]</td>\n",
       "      <td>Networking is an essential job search skill. I...</td>\n",
       "      <td>Strengthen Your LinkedIn Network &amp; Brand</td>\n",
       "      <td>https://www.udacity.com/course/strengthen-your...</td>\n",
       "    </tr>\n",
       "    <tr>\n",
       "      <th>0</th>\n",
       "      <td></td>\n",
       "      <td>Career Advancement</td>\n",
       "      <td></td>\n",
       "      <td>Become an iOS Developer</td>\n",
       "      <td>intermediate</td>\n",
       "      <td>[Interview practice, , Swift, , Data structures]</td>\n",
       "      <td>Technical interviews follow a pattern. If you ...</td>\n",
       "      <td>Data Structures &amp; Algorithms in Swift</td>\n",
       "      <td>https://www.udacity.com/course/data-structures...</td>\n",
       "    </tr>\n",
       "  </tbody>\n",
       "</table>\n",
       "</div>"
      ],
      "text/plain": [
       "                          affiliation            category instructors  \\\n",
       "0  Collaboration WithGrow With Google  Career Advancement               \n",
       "0                                      Career Advancement               \n",
       "0  Collaboration WithGrow With Google  Career Advancement               \n",
       "0  Collaboration WithGrow With Google  Career Advancement               \n",
       "0                                      Career Advancement               \n",
       "\n",
       "                              nanodegree   skill_level  \\\n",
       "0  Become a Professional React Developer      beginner   \n",
       "0      Predictive Analytics for Business      beginner   \n",
       "0   Self-Driving Car Engineer Nanodegree      beginner   \n",
       "0              Become a Digital Marketer      beginner   \n",
       "0                Become an iOS Developer  intermediate   \n",
       "\n",
       "                                              skills  \\\n",
       "0  [Resume writing, , Company targeting, , Storyt...   \n",
       "0  [Creating a narrative, , Targeting your pitch,...   \n",
       "0        [GitHub, , Version Control, , Repositories]   \n",
       "0      [Personal branding, , LinkedIn, , Networking]   \n",
       "0   [Interview practice, , Swift, , Data structures]   \n",
       "\n",
       "                                             summary  \\\n",
       "0  Your resume is the first step in the job searc...   \n",
       "0  Introduce yourself with a memorable cover lett...   \n",
       "0  GitHub is the preferred platform for showcasin...   \n",
       "0  Networking is an essential job search skill. I...   \n",
       "0  Technical interviews follow a pattern. If you ...   \n",
       "\n",
       "                                      title  \\\n",
       "0                       Refresh Your Resume   \n",
       "0                   Craft Your Cover Letter   \n",
       "0                      Optimize Your GitHub   \n",
       "0  Strengthen Your LinkedIn Network & Brand   \n",
       "0     Data Structures & Algorithms in Swift   \n",
       "\n",
       "                                                 url  \n",
       "0  https://www.udacity.com/course/refresh-your-re...  \n",
       "0  https://www.udacity.com/course/craft-your-cove...  \n",
       "0  https://www.udacity.com/course/optimize-your-g...  \n",
       "0  https://www.udacity.com/course/strengthen-your...  \n",
       "0  https://www.udacity.com/course/data-structures...  "
      ]
     },
     "execution_count": 208,
     "metadata": {},
     "output_type": "execute_result"
    }
   ],
   "source": [
    "udacity = pd.concat(things)\n",
    "udacity.head()"
   ]
  },
  {
   "cell_type": "code",
   "execution_count": 209,
   "metadata": {
    "ExecuteTime": {
     "end_time": "2018-06-08T19:57:04.118577Z",
     "start_time": "2018-06-08T19:57:04.096422Z"
    },
    "collapsed": true
   },
   "outputs": [],
   "source": [
    "#udacity.to_csv('data/jobs/udacity/udacity.csv', index=False)"
   ]
  },
  {
   "cell_type": "code",
   "execution_count": null,
   "metadata": {
    "collapsed": true
   },
   "outputs": [],
   "source": []
  },
  {
   "cell_type": "markdown",
   "metadata": {},
   "source": [
    "### Nanos"
   ]
  },
  {
   "cell_type": "code",
   "execution_count": 36,
   "metadata": {
    "ExecuteTime": {
     "end_time": "2018-06-04T17:07:41.153581Z",
     "start_time": "2018-06-04T17:07:39.221124Z"
    },
    "collapsed": true
   },
   "outputs": [],
   "source": [
    "page = requests.get('https://www.udacity.com/' + nano_links[0])\n",
    "soup = BeautifulSoup((page).content, 'html.parser')"
   ]
  },
  {
   "cell_type": "code",
   "execution_count": 109,
   "metadata": {
    "ExecuteTime": {
     "end_time": "2018-06-04T18:53:36.189005Z",
     "start_time": "2018-06-04T18:53:36.180695Z"
    },
    "collapsed": true
   },
   "outputs": [],
   "source": [
    "things = [x for x in soup.find('section', {'class': 'nd-overview'}).findAll('li')]"
   ]
  },
  {
   "cell_type": "code",
   "execution_count": 110,
   "metadata": {
    "ExecuteTime": {
     "end_time": "2018-06-04T18:53:40.034848Z",
     "start_time": "2018-06-04T18:53:40.027194Z"
    }
   },
   "outputs": [
    {
     "data": {
      "text/plain": [
       "<li class=\"nd-overview__col\">\n",
       "<h6>Time</h6>\n",
       "<h5>1 Four-Month Term</h5>\n",
       "<p class=\"x-small\">Study 12 hrs/week and complete in 4 mo.</p>\n",
       "</li>"
      ]
     },
     "execution_count": 110,
     "metadata": {},
     "output_type": "execute_result"
    }
   ],
   "source": [
    "thing[0]"
   ]
  },
  {
   "cell_type": "code",
   "execution_count": 111,
   "metadata": {
    "ExecuteTime": {
     "end_time": "2018-06-04T18:54:30.417559Z",
     "start_time": "2018-06-04T18:54:30.392563Z"
    }
   },
   "outputs": [
    {
     "ename": "AttributeError",
     "evalue": "'NoneType' object has no attribute 'text'",
     "output_type": "error",
     "traceback": [
      "\u001b[0;31m---------------------------------------------------------------------------\u001b[0m",
      "\u001b[0;31mAttributeError\u001b[0m                            Traceback (most recent call last)",
      "\u001b[0;32m<ipython-input-111-bb9c4adb0105>\u001b[0m in \u001b[0;36m<module>\u001b[0;34m()\u001b[0m\n\u001b[1;32m      1\u001b[0m \u001b[0mi\u001b[0m \u001b[0;34m=\u001b[0m \u001b[0;34m[\u001b[0m\u001b[0mx\u001b[0m\u001b[0;34m.\u001b[0m\u001b[0mfind\u001b[0m\u001b[0;34m(\u001b[0m\u001b[0;34m'h6'\u001b[0m\u001b[0;34m)\u001b[0m\u001b[0;34m.\u001b[0m\u001b[0mtext\u001b[0m \u001b[0;32mfor\u001b[0m \u001b[0mx\u001b[0m \u001b[0;32min\u001b[0m \u001b[0mthings\u001b[0m\u001b[0;34m]\u001b[0m\u001b[0;34m\u001b[0m\u001b[0m\n\u001b[0;32m----> 2\u001b[0;31m \u001b[0mj\u001b[0m \u001b[0;34m=\u001b[0m \u001b[0;34m[\u001b[0m\u001b[0mx\u001b[0m\u001b[0;34m.\u001b[0m\u001b[0mfind\u001b[0m\u001b[0;34m(\u001b[0m\u001b[0;34m'h5'\u001b[0m\u001b[0;34m)\u001b[0m\u001b[0;34m.\u001b[0m\u001b[0mtext\u001b[0m \u001b[0;32mfor\u001b[0m \u001b[0mx\u001b[0m \u001b[0;32min\u001b[0m \u001b[0mthings\u001b[0m\u001b[0;34m]\u001b[0m\u001b[0;34m\u001b[0m\u001b[0m\n\u001b[0m\u001b[1;32m      3\u001b[0m \u001b[0mbox_cols\u001b[0m \u001b[0;34m=\u001b[0m \u001b[0mpd\u001b[0m\u001b[0;34m.\u001b[0m\u001b[0mDataFrame\u001b[0m\u001b[0;34m(\u001b[0m\u001b[0;34m[\u001b[0m\u001b[0mj\u001b[0m\u001b[0;34m]\u001b[0m\u001b[0;34m,\u001b[0m \u001b[0mcolumns\u001b[0m\u001b[0;34m=\u001b[0m\u001b[0mi\u001b[0m\u001b[0;34m)\u001b[0m\u001b[0;34m\u001b[0m\u001b[0m\n\u001b[1;32m      4\u001b[0m \u001b[0mbox_cols\u001b[0m\u001b[0;34m\u001b[0m\u001b[0m\n",
      "\u001b[0;32m<ipython-input-111-bb9c4adb0105>\u001b[0m in \u001b[0;36m<listcomp>\u001b[0;34m(.0)\u001b[0m\n\u001b[1;32m      1\u001b[0m \u001b[0mi\u001b[0m \u001b[0;34m=\u001b[0m \u001b[0;34m[\u001b[0m\u001b[0mx\u001b[0m\u001b[0;34m.\u001b[0m\u001b[0mfind\u001b[0m\u001b[0;34m(\u001b[0m\u001b[0;34m'h6'\u001b[0m\u001b[0;34m)\u001b[0m\u001b[0;34m.\u001b[0m\u001b[0mtext\u001b[0m \u001b[0;32mfor\u001b[0m \u001b[0mx\u001b[0m \u001b[0;32min\u001b[0m \u001b[0mthings\u001b[0m\u001b[0;34m]\u001b[0m\u001b[0;34m\u001b[0m\u001b[0m\n\u001b[0;32m----> 2\u001b[0;31m \u001b[0mj\u001b[0m \u001b[0;34m=\u001b[0m \u001b[0;34m[\u001b[0m\u001b[0mx\u001b[0m\u001b[0;34m.\u001b[0m\u001b[0mfind\u001b[0m\u001b[0;34m(\u001b[0m\u001b[0;34m'h5'\u001b[0m\u001b[0;34m)\u001b[0m\u001b[0;34m.\u001b[0m\u001b[0mtext\u001b[0m \u001b[0;32mfor\u001b[0m \u001b[0mx\u001b[0m \u001b[0;32min\u001b[0m \u001b[0mthings\u001b[0m\u001b[0;34m]\u001b[0m\u001b[0;34m\u001b[0m\u001b[0m\n\u001b[0m\u001b[1;32m      3\u001b[0m \u001b[0mbox_cols\u001b[0m \u001b[0;34m=\u001b[0m \u001b[0mpd\u001b[0m\u001b[0;34m.\u001b[0m\u001b[0mDataFrame\u001b[0m\u001b[0;34m(\u001b[0m\u001b[0;34m[\u001b[0m\u001b[0mj\u001b[0m\u001b[0;34m]\u001b[0m\u001b[0;34m,\u001b[0m \u001b[0mcolumns\u001b[0m\u001b[0;34m=\u001b[0m\u001b[0mi\u001b[0m\u001b[0;34m)\u001b[0m\u001b[0;34m\u001b[0m\u001b[0m\n\u001b[1;32m      4\u001b[0m \u001b[0mbox_cols\u001b[0m\u001b[0;34m\u001b[0m\u001b[0m\n",
      "\u001b[0;31mAttributeError\u001b[0m: 'NoneType' object has no attribute 'text'"
     ]
    }
   ],
   "source": [
    "i = [x.find('h6').text for x in things]\n",
    "j = [x.find('h5').text for x in things]\n",
    "box_cols = pd.DataFrame([j], columns=i)\n",
    "box_cols"
   ]
  },
  {
   "cell_type": "code",
   "execution_count": null,
   "metadata": {
    "collapsed": true
   },
   "outputs": [],
   "source": []
  }
 ],
 "metadata": {
  "anaconda-cloud": {},
  "kernelspec": {
   "display_name": "Python [default]",
   "language": "python",
   "name": "python3"
  },
  "language_info": {
   "codemirror_mode": {
    "name": "ipython",
    "version": 3
   },
   "file_extension": ".py",
   "mimetype": "text/x-python",
   "name": "python",
   "nbconvert_exporter": "python",
   "pygments_lexer": "ipython3",
   "version": "3.6.1"
  }
 },
 "nbformat": 4,
 "nbformat_minor": 2
}

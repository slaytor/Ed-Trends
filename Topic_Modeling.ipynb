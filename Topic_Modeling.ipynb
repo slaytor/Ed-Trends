{
 "cells": [
  {
   "cell_type": "code",
   "execution_count": 1,
   "metadata": {
    "ExecuteTime": {
     "end_time": "2018-06-01T16:42:59.594430Z",
     "start_time": "2018-06-01T16:42:56.734113Z"
    },
    "collapsed": true
   },
   "outputs": [],
   "source": [
    "import spacy\n",
    "spacy.load('en')\n",
    "from spacy.lang.en import English\n",
    "parser = English()\n",
    "\n",
    "def tokenize(text):\n",
    "    lda_tokens = []\n",
    "    tokens = parser(text)\n",
    "    for token in tokens:\n",
    "        if token.orth_.isspace():\n",
    "            continue\n",
    "        elif token.like_url:\n",
    "            lda_tokens.append('URL')\n",
    "        elif token.orth_.startswith('@'):\n",
    "            lda_tokens.append('SCREEN_NAME')\n",
    "        else:\n",
    "            lda_tokens.append(token.lower_)\n",
    "    return lda_tokens"
   ]
  },
  {
   "cell_type": "code",
   "execution_count": 2,
   "metadata": {
    "ExecuteTime": {
     "end_time": "2018-06-01T16:43:04.107591Z",
     "start_time": "2018-06-01T16:42:59.596600Z"
    }
   },
   "outputs": [
    {
     "name": "stdout",
     "output_type": "stream",
     "text": [
      "[nltk_data] Downloading package wordnet to\n",
      "[nltk_data]     /Users/sataylor/nltk_data...\n",
      "[nltk_data]   Package wordnet is already up-to-date!\n"
     ]
    }
   ],
   "source": [
    "import nltk\n",
    "nltk.download('wordnet')\n",
    "from nltk.corpus import wordnet as wn\n",
    "\n",
    "def get_lemma(word):\n",
    "    lemma = wn.morphy(word)\n",
    "    if lemma is None:\n",
    "        return word\n",
    "    else:\n",
    "        return lemma\n",
    "    \n",
    "from nltk.stem.wordnet import WordNetLemmatizer\n",
    "def get_lemma2(word):\n",
    "    return WordNetLemmatizer().lemmatize(word)"
   ]
  },
  {
   "cell_type": "code",
   "execution_count": 3,
   "metadata": {
    "ExecuteTime": {
     "end_time": "2018-06-01T16:43:04.129265Z",
     "start_time": "2018-06-01T16:43:04.109943Z"
    }
   },
   "outputs": [
    {
     "name": "stdout",
     "output_type": "stream",
     "text": [
      "[nltk_data] Downloading package stopwords to\n",
      "[nltk_data]     /Users/sataylor/nltk_data...\n",
      "[nltk_data]   Package stopwords is already up-to-date!\n"
     ]
    }
   ],
   "source": [
    "nltk.download('stopwords')\n",
    "en_stop = set(nltk.corpus.stopwords.words('english'))"
   ]
  },
  {
   "cell_type": "code",
   "execution_count": 4,
   "metadata": {
    "ExecuteTime": {
     "end_time": "2018-06-01T16:43:04.145354Z",
     "start_time": "2018-06-01T16:43:04.131709Z"
    },
    "collapsed": true
   },
   "outputs": [],
   "source": [
    "def prepare_text_for_lda(text):\n",
    "    tokens = tokenize(text)\n",
    "    tokens = [token for token in tokens if len(token) > 4]\n",
    "    tokens = [token for token in tokens if token not in en_stop]\n",
    "    tokens = [get_lemma2(token) for token in tokens]\n",
    "    return tokens"
   ]
  },
  {
   "cell_type": "code",
   "execution_count": 5,
   "metadata": {
    "ExecuteTime": {
     "end_time": "2018-06-01T16:43:32.731793Z",
     "start_time": "2018-06-01T16:43:04.149798Z"
    },
    "collapsed": true
   },
   "outputs": [],
   "source": [
    "import random\n",
    "text_data = []\n",
    "with open('data/jobs/topic_modeling/all_course_descriptions.csv') as f:\n",
    "    for line in f:\n",
    "        tokens = prepare_text_for_lda(line)\n",
    "        text_data.append(tokens)"
   ]
  },
  {
   "cell_type": "code",
   "execution_count": 6,
   "metadata": {
    "ExecuteTime": {
     "end_time": "2018-06-01T16:43:36.224837Z",
     "start_time": "2018-06-01T16:43:32.733583Z"
    },
    "collapsed": true
   },
   "outputs": [],
   "source": [
    "from gensim import corpora\n",
    "dictionary = corpora.Dictionary(text_data)\n",
    "corpus = [dictionary.doc2bow(text) for text in text_data]\n",
    "import pickle\n",
    "pickle.dump(corpus, open('data/jobs/topic_modeling/corpus.pkl', 'wb'))\n",
    "dictionary.save('data/jobs/topic_modeling/dictionary.gensim')"
   ]
  },
  {
   "cell_type": "code",
   "execution_count": 7,
   "metadata": {
    "ExecuteTime": {
     "end_time": "2018-06-01T16:45:04.886027Z",
     "start_time": "2018-06-01T16:43:36.227322Z"
    },
    "scrolled": false
   },
   "outputs": [
    {
     "name": "stdout",
     "output_type": "stream",
     "text": [
      "(0, '0.048*\"design\" + 0.035*\"specialization\" + 0.026*\"project\" + 0.011*\"idea\" + 0.009*\"creative\"')\n",
      "(1, '0.029*\"module\" + 0.022*\"material\" + 0.021*\"complete\" + 0.019*\"credit\" + 0.017*\"academic\"')\n",
      "(2, '0.022*\"image\" + 0.019*\"color\" + 0.018*\"photo\" + 0.016*\"photoshop\" + 0.011*\"adobe\"')\n",
      "(3, '0.019*\"institution\" + 0.016*\"cours\" + 0.008*\"overview\" + 0.007*\"assumption\" + 0.006*\"annual\"')\n",
      "(4, '0.010*\"patient\" + 0.007*\"azure\" + 0.007*\"paris\" + 0.006*\"russian\" + 0.005*\"governance\"')\n",
      "(5, '0.023*\"health\" + 0.017*\"global\" + 0.014*\"change\" + 0.013*\"international\" + 0.012*\"cultural\"')\n",
      "(6, '0.029*\"business\" + 0.019*\"financial\" + 0.018*\"social\" + 0.017*\"marketing\" + 0.014*\"market\"')\n",
      "(7, '0.016*\"programming\" + 0.012*\"application\" + 0.012*\"design\" + 0.012*\"build\" + 0.011*\"using\"')\n",
      "(8, '0.025*\"sale\" + 0.021*\"product\" + 0.021*\"customer\" + 0.013*\"process\" + 0.013*\"service\"')\n",
      "(9, '0.019*\"effect\" + 0.014*\"motion\" + 0.012*\"animation\" + 0.011*\"material\" + 0.009*\"technique\"')\n",
      "(10, '0.034*\"system\" + 0.020*\"security\" + 0.017*\"cloud\" + 0.017*\"network\" + 0.013*\"application\"')\n",
      "(11, '0.014*\"excel\" + 0.014*\"document\" + 0.012*\"show\" + 0.011*\"office\" + 0.011*\"using\"')\n",
      "(12, '0.014*\"certificate\" + 0.008*\"theme\" + 0.007*\"story\" + 0.007*\"wordpress\" + 0.007*\"child\"')\n",
      "(13, '0.024*\"chinese\" + 0.014*\"economy\" + 0.010*\"session\" + 0.008*\"final\" + 0.007*\"logic\"')\n",
      "(14, '0.010*\"universe\" + 0.008*\"grand\" + 0.007*\"bölüm\" + 0.004*\"villes\" + 0.004*\"odyssey\"')\n",
      "(15, '0.014*\"presentation\" + 0.012*\"family\" + 0.008*\"printing\" + 0.008*\"slide\" + 0.007*\"justice\"')\n",
      "(16, '0.014*\"student\" + 0.012*\"skill\" + 0.011*\"science\" + 0.009*\"problem\" + 0.009*\"research\"')\n",
      "(17, '0.034*\"project\" + 0.032*\"management\" + 0.015*\"organization\" + 0.010*\"business\" + 0.009*\"development\"')\n"
     ]
    }
   ],
   "source": [
    "import gensim\n",
    "NUM_TOPICS = 18\n",
    "ldamodel = gensim.models.ldamodel.LdaModel(corpus, num_topics = NUM_TOPICS, id2word=dictionary, passes=10)\n",
    "ldamodel.save('model5.gensim')\n",
    "topics = ldamodel.print_topics(num_words=5)\n",
    "for topic in topics:\n",
    "    print(topic)"
   ]
  },
  {
   "cell_type": "code",
   "execution_count": null,
   "metadata": {
    "collapsed": true
   },
   "outputs": [],
   "source": []
  },
  {
   "cell_type": "code",
   "execution_count": null,
   "metadata": {
    "collapsed": true
   },
   "outputs": [],
   "source": []
  },
  {
   "cell_type": "code",
   "execution_count": null,
   "metadata": {
    "collapsed": true
   },
   "outputs": [],
   "source": []
  }
 ],
 "metadata": {
  "kernelspec": {
   "display_name": "Python [default]",
   "language": "python",
   "name": "python3"
  },
  "language_info": {
   "codemirror_mode": {
    "name": "ipython",
    "version": 3
   },
   "file_extension": ".py",
   "mimetype": "text/x-python",
   "name": "python",
   "nbconvert_exporter": "python",
   "pygments_lexer": "ipython3",
   "version": "3.6.1"
  }
 },
 "nbformat": 4,
 "nbformat_minor": 2
}
